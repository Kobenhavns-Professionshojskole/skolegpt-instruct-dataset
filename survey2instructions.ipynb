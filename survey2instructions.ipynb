{
 "cells": [
  {
   "cell_type": "code",
   "execution_count": null,
   "metadata": {},
   "outputs": [],
   "source": [
    "import os\n",
    "import pandas as pd\n",
    "import polars as pl\n",
    "from dotenv import load_dotenv\n",
    "from toucans import PromptFunction\n",
    "from skolegpt_instruct_dataset.utils import merge_new_examples_to_master_dataset\n",
    "\n",
    "load_dotenv()\n",
    "\n",
    "def load_from_newline_separated_txt(file_name):\n",
    "    with open(file_name, 'r', encoding='utf-8') as file:\n",
    "        lines = file.readlines()\n",
    "    lines = [line.strip() for line in lines]\n",
    "    df = pd.DataFrame(lines, columns=['question'])\n",
    "    df[\"id\"] = [f\"skolegpt_survey.{_id}\" for _id in df.index.tolist()]\n",
    "    df[\"source\"] = \"skolegpt_survey\"\n",
    "    df[\"system_prompt\"] = \"\"\n",
    "    df = df[[\"id\", \"system_prompt\", \"question\", \"source\"]]\n",
    "    return df\n"
   ]
  },
  {
   "cell_type": "code",
   "execution_count": null,
   "metadata": {},
   "outputs": [],
   "source": [
    "# load and preprocess data\n",
    "df = load_from_newline_separated_txt(\"./data/survey_questions.txt\")\n",
    "df.head()"
   ]
  },
  {
   "cell_type": "code",
   "execution_count": null,
   "metadata": {},
   "outputs": [],
   "source": [
    "# Define prompt\n",
    "template = \"{{ instruction }}\"\n",
    "answer = PromptFunction(\n",
    "    model=\"gpt-4-0125-preview\",\n",
    "    temperature=0.7,\n",
    "    messages=[\n",
    "        {\"role\": \"user\", \"content\": template},\n",
    "        \n",
    "    ],\n",
    ")\n"
   ]
  },
  {
   "cell_type": "code",
   "execution_count": null,
   "metadata": {},
   "outputs": [],
   "source": [
    "# run generation\n",
    "meta_data_output = []\n",
    "ids = []\n",
    "responses = []\n",
    "from tqdm import tqdm\n",
    "for _ ,r in tqdm(df.iterrows(), total=len(df)):\n",
    "\n",
    "    try:\n",
    "        output = answer(instruction=r[\"question\"])\n",
    "        output_content = output.choices[0].message.content\n",
    "        ids.append(r[\"id\"])\n",
    "        meta_data_output.append(output)\n",
    "        responses.append(output_content)\n",
    "    except:\n",
    "        ids.append(r[\"id\"])\n",
    "        meta_data_output.append(None)\n",
    "        responses.append(None) \n",
    "\n",
    "df[\"response\"] = responses\n",
    "df = df[[\"id\", \"system_prompt\", \"question\", \"response\", \"source\"]]"
   ]
  },
  {
   "cell_type": "code",
   "execution_count": null,
   "metadata": {},
   "outputs": [],
   "source": [
    "# save generated instructions and responses\n",
    "pl.from_pandas(df).write_parquet(\"./data/skolegpt_survey_instructions.parquet\")"
   ]
  },
  {
   "cell_type": "code",
   "execution_count": null,
   "metadata": {},
   "outputs": [],
   "source": [
    "# merge generated examples to master dataset\n",
    "ds = merge_new_examples_to_master_dataset(df_translated=pl.from_pandas(df))"
   ]
  },
  {
   "cell_type": "code",
   "execution_count": null,
   "metadata": {},
   "outputs": [],
   "source": [
    "# push mergerd updates to the master dataset\n",
    "if False:\n",
    "    ds.push_to_hub(repo_id=\"kobprof/skolegpt-instruct\", token=os.environ[\"HUGGINGFACE_TOKEN\"])"
   ]
  },
  {
   "cell_type": "code",
   "execution_count": null,
   "metadata": {},
   "outputs": [],
   "source": []
  }
 ],
 "metadata": {
  "kernelspec": {
   "display_name": ".venv",
   "language": "python",
   "name": "python3"
  },
  "language_info": {
   "codemirror_mode": {
    "name": "ipython",
    "version": 3
   },
   "file_extension": ".py",
   "mimetype": "text/x-python",
   "name": "python",
   "nbconvert_exporter": "python",
   "pygments_lexer": "ipython3",
   "version": "3.11.6"
  }
 },
 "nbformat": 4,
 "nbformat_minor": 2
}
